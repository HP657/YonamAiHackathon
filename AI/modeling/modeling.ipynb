{
 "cells": [
  {
   "cell_type": "code",
   "execution_count": 1,
   "metadata": {},
   "outputs": [],
   "source": [
    "import pandas as pd\n",
    "from konlpy.tag import Okt\n",
    "from gensim.models import Word2Vec\n",
    "import numpy as np"
   ]
  },
  {
   "cell_type": "code",
   "execution_count": 2,
   "metadata": {},
   "outputs": [],
   "source": [
    "df = pd.read_excel(\"Training.xlsx\")"
   ]
  },
  {
   "cell_type": "code",
   "execution_count": 3,
   "metadata": {},
   "outputs": [],
   "source": [
    "df.drop([\"연령\", \"성별\", \"신체질환\", \"상황키워드\", \"감정_소분류\",  \"시스템문장1\", \"시스템문장2\", \"시스템문장3\"], axis=1, inplace=True)"
   ]
  },
  {
   "cell_type": "code",
   "execution_count": 4,
   "metadata": {},
   "outputs": [],
   "source": [
    "df.rename(columns={\"사람문장1\" : \"sentence\"}, inplace=True)\n",
    "df.rename(columns={'감정_대분류': 'Emotion'}, inplace=True)\n"
   ]
  },
  {
   "cell_type": "code",
   "execution_count": 5,
   "metadata": {},
   "outputs": [],
   "source": [
    "df_train = pd.concat([\n",
    "    df[['Emotion', 'sentence']],\n",
    "    df[['Emotion', '사람문장2']].rename(columns={'사람문장2': 'sentence'}),\n",
    "    df[['Emotion', '사람문장3']].rename(columns={'사람문장3': 'sentence'})\n",
    "], ignore_index=True)\n",
    "\n"
   ]
  },
  {
   "cell_type": "code",
   "execution_count": 6,
   "metadata": {},
   "outputs": [],
   "source": [
    "df_train = df_train.dropna()"
   ]
  },
  {
   "cell_type": "code",
   "execution_count": 7,
   "metadata": {},
   "outputs": [],
   "source": [
    "okt = Okt()\n",
    "\n",
    "temp = []\n",
    "for i in df_train['sentence']:\n",
    "    temp.append(okt.morphs(i))\n",
    "\n",
    "df_train['token'] = temp\n",
    "\n",
    "df_train.to_csv('training_data-token.csv', index=False)"
   ]
  },
  {
   "cell_type": "code",
   "execution_count": 9,
   "metadata": {},
   "outputs": [],
   "source": [
    "model = Word2Vec(df_train['token'], vector_size=1000, window=5, min_count=1, workers=4, sg=1)"
   ]
  },
  {
   "cell_type": "code",
   "execution_count": null,
   "metadata": {},
   "outputs": [],
   "source": [
    "model.wv.vectors.shape"
   ]
  },
  {
   "cell_type": "code",
   "execution_count": null,
   "metadata": {},
   "outputs": [],
   "source": [
    "import joblib\n",
    "\n",
    "joblib.dump(model, '../model/word_model.joblib')"
   ]
  },
  {
   "cell_type": "code",
   "execution_count": null,
   "metadata": {},
   "outputs": [],
   "source": [
    "import pandas as pd\n",
    "\n",
    "# 데이터를 불러옵니다.\n",
    "data = pd.read_csv('training_data-token.csv')  # 데이터 파일 경로에 맞게 수정하세요.\n",
    "\n",
    "# 감정 텍스트를 숫자로 변환하는 매핑\n",
    "emotion_mapping = {\n",
    "    '기쁨': 0,\n",
    "    '당황': 1,\n",
    "    '불안': 2,\n",
    "    '슬픔': 3,\n",
    "    '상처': 4,\n",
    "    '분노': 5\n",
    "}\n",
    "\n",
    "# 'Emotion' 컬럼을 숫자로 변환\n",
    "data['Emotion'] = data['Emotion'].map(emotion_mapping)\n",
    "\n",
    "# 숫자로 변환된 감정 값에 맞게 샘플링을 설정합니다.\n",
    "desired_ratio = {\n",
    "    0: 16000,  # 기쁨 4.5\n",
    "    3: 16000,  # 슬픔 2.0\n",
    "    2: 16000,  # 불안 2.0\n",
    "    4: 16000,  # 상처 1.5\n",
    "    1: 16000,  # 당황 1.0\n",
    "    5: 16000,  # 분노 1.0\n",
    "}\n",
    "# 선택한 데이터를 저장할 빈 데이터프레임을 생성합니다.\n",
    "selected_data = pd.DataFrame(columns=data.columns)\n",
    "\n",
    "# 각각의 감정에 대해 적절한 비율로 데이터를 선택합니다.\n",
    "for emotion, ratio in desired_ratio.items():\n",
    "    emotion_data = data[data['Emotion'] == emotion].sample(n=ratio, random_state=42)  # 적절한 비율로 샘플링\n",
    "    selected_data = pd.concat([selected_data, emotion_data], ignore_index=True)  # 데이터프레임을 합칩니다.\n",
    "\n",
    "# 선택된 데이터를 확인합니다.\n",
    "print(selected_data)\n",
    "\n",
    "# 선택된 데이터를 새로운 파일로 저장합니다.\n",
    "selected_data.to_csv('selected_data.csv', index=False)  # 저장할 파일명에 맞게 수정하세요.\n"
   ]
  },
  {
   "cell_type": "code",
   "execution_count": 12,
   "metadata": {},
   "outputs": [],
   "source": [
    "def get_sent_embedding(model, embedding_size, tokenized_words):\n",
    "    feature_vec = np.zeros((embedding_size,), dtype=\"float32\")\n",
    "    n_words = 0\n",
    "    for word in tokenized_words:\n",
    "        if word in model.wv.key_to_index:\n",
    "            n_words += 1\n",
    "            feature_vec = np.add(feature_vec, model.wv[word])\n",
    "    if (n_words > 0):\n",
    "        feature_vec = np.divide(feature_vec, n_words)\n",
    "    return feature_vec"
   ]
  },
  {
   "cell_type": "code",
   "execution_count": 14,
   "metadata": {},
   "outputs": [],
   "source": [
    "df_train = pd.read_csv('selected_data.csv')"
   ]
  },
  {
   "cell_type": "code",
   "execution_count": null,
   "metadata": {},
   "outputs": [],
   "source": [
    "from sklearn.svm import SVC\n",
    "from joblib import load, dump\n",
    "\n",
    "model = load(\"../model/word_model.joblib\")\n",
    "\n",
    "X = [get_sent_embedding(model, 1000, tokens) for tokens in df_train['token']]\n",
    "y = df_train['Emotion']\n",
    "\n",
    "# SVM 분류 모델 학습\n",
    "svm_model = SVC(kernel='linear')\n",
    "svm_model.fit(X, y)\n",
    "\n",
    "# 모델 저장\n",
    "dump(svm_model, '../model/svm_model.joblib')\n"
   ]
  }
 ],
 "metadata": {
  "kernelspec": {
   "display_name": "venv",
   "language": "python",
   "name": "python3"
  },
  "language_info": {
   "codemirror_mode": {
    "name": "ipython",
    "version": 3
   },
   "file_extension": ".py",
   "mimetype": "text/x-python",
   "name": "python",
   "nbconvert_exporter": "python",
   "pygments_lexer": "ipython3",
   "version": "3.9.13"
  }
 },
 "nbformat": 4,
 "nbformat_minor": 2
}
