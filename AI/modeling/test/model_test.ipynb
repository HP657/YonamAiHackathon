{
 "cells": [
  {
   "cell_type": "code",
   "execution_count": 1,
   "metadata": {},
   "outputs": [],
   "source": [
    "import numpy as np\n",
    "import pandas as pd\n",
    "from konlpy.tag import Okt"
   ]
  },
  {
   "cell_type": "code",
   "execution_count": null,
   "metadata": {},
   "outputs": [],
   "source": [
    "df = pd.read_excel(\"../Validation.xlsx\")\n",
    "\n",
    "df.drop([\"연령\", \"성별\", \"신체질환\", \"상황키워드\", \"감정_소분류\",  \"시스템문장1\", \"시스템문장2\", \"시스템문장3\"], axis=1, inplace=True)\n",
    "df.rename(columns={\"사람문장1\" : \"sentence\"}, inplace=True)\n",
    "df.rename(columns={'감정_대분류': 'Emotion'}, inplace=True)\n",
    "df_valid = pd.concat([\n",
    "    df[['Emotion', 'sentence']],\n",
    "    df[['Emotion', '사람문장2']].rename(columns={'사람문장2': 'sentence'}),\n",
    "    df[['Emotion', '사람문장3']].rename(columns={'사람문장3': 'sentence'})\n",
    "], ignore_index=True)\n",
    "\n",
    "df_valid = df_valid.dropna()"
   ]
  },
  {
   "cell_type": "code",
   "execution_count": null,
   "metadata": {},
   "outputs": [],
   "source": [
    "def get_sent_embedding(model, embedding_size, tokenized_words):\n",
    "    feature_vec = np.zeros((embedding_size,), dtype=\"float32\")\n",
    "    n_words = 0\n",
    "    for word in tokenized_words:\n",
    "        if word in model.wv.key_to_index:\n",
    "            n_words += 1\n",
    "            feature_vec = np.add(feature_vec, model.wv[word])\n",
    "    if (n_words > 0):\n",
    "        feature_vec = np.divide(feature_vec, n_words)\n",
    "    return feature_vec"
   ]
  },
  {
   "cell_type": "code",
   "execution_count": null,
   "metadata": {},
   "outputs": [],
   "source": [
    "df_train = pd.read_csv('../selected_data.csv')"
   ]
  },
  {
   "cell_type": "code",
   "execution_count": null,
   "metadata": {},
   "outputs": [],
   "source": [
    "from joblib import load\n",
    "svm_model = load(\"../../svm_model.joblib\")"
   ]
  },
  {
   "cell_type": "code",
   "execution_count": null,
   "metadata": {},
   "outputs": [],
   "source": [
    "df_valid = pd.read_csv(\"../validation_data.csv\")\n",
    "okt = Okt()\n",
    "\n",
    "temp = []\n",
    "for i in df_valid['sentence']:\n",
    "    temp.append(okt.morphs(i))\n",
    "\n",
    "df_valid['token'] = temp"
   ]
  },
  {
   "cell_type": "code",
   "execution_count": null,
   "metadata": {},
   "outputs": [],
   "source": [
    "import numpy as np\n",
    "model = load(\"../../model/word_model.joblib\")\n",
    "# 검증 데이터의 임베딩 생성\n",
    "X_valid = [get_sent_embedding(model, 1000, tokens) for tokens in df_valid['token']]\n",
    "\n",
    "# 실제 레이블\n",
    "y_valid = df_valid['Emotion']\n",
    "# SVM 모델로 예측 수행\n",
    "y_pred = svm_model.predict(X_valid)\n",
    "from sklearn.metrics import classification_report, confusion_matrix\n",
    "\n",
    "# 성능 보고서\n",
    "print(\"Classification Report:\")\n",
    "print(classification_report(y_valid, y_pred))\n",
    "\n",
    "# 혼동 행렬\n",
    "print(\"Confusion Matrix:\")\n",
    "print(confusion_matrix(y_valid, y_pred))\n"
   ]
  },
  {
   "cell_type": "code",
   "execution_count": null,
   "metadata": {},
   "outputs": [],
   "source": [
    "import seaborn as sns\n",
    "import matplotlib.pyplot as plt\n",
    "\n",
    "emotion_mapping_inverse = {0: \"기쁨\", 1: \"당황\", 2: \"불안\", 3: \"슬픔\", 4: \"상처\", 5: \"분노\"}\n",
    "\n",
    "# 혼동 행렬 생성\n",
    "conf_matrix = confusion_matrix(y_valid, y_pred)\n",
    "\n",
    "# 시각화\n",
    "plt.figure(figsize=(10, 7))\n",
    "sns.heatmap(conf_matrix, annot=True, fmt=\"d\", cmap=\"Blues\", \n",
    "            xticklabels=emotion_mapping_inverse.values(), \n",
    "            yticklabels=emotion_mapping_inverse.values())\n",
    "plt.xlabel(\"Predicted Label\")\n",
    "plt.ylabel(\"True Label\")\n",
    "plt.title(\"Confusion Matrix\")\n",
    "plt.show()\n"
   ]
  }
 ],
 "metadata": {
  "kernelspec": {
   "display_name": "venv",
   "language": "python",
   "name": "python3"
  },
  "language_info": {
   "codemirror_mode": {
    "name": "ipython",
    "version": 3
   },
   "file_extension": ".py",
   "mimetype": "text/x-python",
   "name": "python",
   "nbconvert_exporter": "python",
   "pygments_lexer": "ipython3",
   "version": "3.9.13"
  }
 },
 "nbformat": 4,
 "nbformat_minor": 2
}
